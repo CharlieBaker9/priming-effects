{
 "cells": [
  {
   "cell_type": "markdown",
   "id": "ed36aa56",
   "metadata": {},
   "source": [
    "# Analysis of Subliminal Messaging's effect on Sentence Production\n",
    "## "
   ]
  },
  {
   "cell_type": "code",
   "execution_count": 16,
   "id": "4bf35d5e",
   "metadata": {},
   "outputs": [],
   "source": [
    "import string"
   ]
  },
  {
   "cell_type": "code",
   "execution_count": 17,
   "id": "68e757dc",
   "metadata": {},
   "outputs": [],
   "source": [
    "file = open(\"NRC-Emotion-Lexicon.txt\")\n",
    "txt = file.readline()\n",
    "txt = file.readline()\n",
    "word_dict = {} \n",
    "while txt:\n",
    "    txt = txt.split( )\n",
    "    if txt[0] in word_dict:\n",
    "        word_dict[txt[0]][txt[1]] = int(txt[2])\n",
    "    else:\n",
    "        word_dict[txt[0]] = {txt[1]: int(txt[2])}\n",
    "    txt = file.readline()"
   ]
  },
  {
   "cell_type": "code",
   "execution_count": 18,
   "id": "da7965f6",
   "metadata": {},
   "outputs": [
    {
     "name": "stdout",
     "output_type": "stream",
     "text": [
      "First \n",
      "{'anger': 10, 'anticipation': 29, 'disgust': 8, 'fear': 14, 'joy': 23, 'negative': 47, 'positive': 39, 'sadness': 18, 'surprise': 19, 'trust': 25}\n",
      "Second \n",
      "{'anger': 26, 'anticipation': 55, 'disgust': 15, 'fear': 25, 'joy': 47, 'negative': 45, 'positive': 90, 'sadness': 15, 'surprise': 27, 'trust': 58}\n",
      "Third \n",
      "{'anger': 14, 'anticipation': 38, 'disgust': 13, 'fear': 14, 'joy': 23, 'negative': 33, 'positive': 52, 'sadness': 19, 'surprise': 15, 'trust': 33}\n",
      "Fourth \n",
      "{'anger': 13, 'anticipation': 34, 'disgust': 12, 'fear': 22, 'joy': 9, 'negative': 43, 'positive': 35, 'sadness': 17, 'surprise': 13, 'trust': 14}\n",
      "Fifth \n",
      "{'anger': 13, 'anticipation': 30, 'disgust': 7, 'fear': 17, 'joy': 25, 'negative': 35, 'positive': 64, 'sadness': 19, 'surprise': 11, 'trust': 27}\n"
     ]
    }
   ],
   "source": [
    "emotions = ['anger', 'anticipation', 'disgust', 'fear', 'joy', 'negative', 'positive', 'sadness', 'surprise', 'trust']\n",
    "prompts = ['First ', 'Second ', 'Third ', 'Fourth ', 'Fifth ']\n",
    "scores = []\n",
    "for prompt in prompts:\n",
    "    print(prompt)\n",
    "    response = open(prompt+\"Prompt.txt\")\n",
    "    with open(prompt+'Prompt.txt', 'r', encoding='utf-16', errors='ignore') as f:\n",
    "        text = f.readlines()\n",
    "        reviewScores = {'anger':0, 'anticipation':0, 'disgust':0, 'fear':0, 'joy':0, 'negative':0, 'positive':0, 'sadness':0, 'surprise':0, 'trust':0}\n",
    "        for i in range(len(text)):\n",
    "            responseLine = text[i]\n",
    "            words = responseLine.split( )\n",
    "            for i in range(len(words)):\n",
    "                curr = words[i].lower()\n",
    "                curr = curr.translate(str.maketrans('', '', string.punctuation))\n",
    "                for emotion in emotions:\n",
    "                    if (words[i] in word_dict):\n",
    "                            if (word_dict[words[i]][emotion] == 1):\n",
    "                                reviewScores[emotion] = reviewScores.get(emotion) + 1        \n",
    "        scores.append(reviewScores)\n",
    "        print(reviewScores)"
   ]
  },
  {
   "cell_type": "code",
   "execution_count": 19,
   "id": "a2aa69e0",
   "metadata": {},
   "outputs": [
    {
     "name": "stdout",
     "output_type": "stream",
     "text": [
      "26\n",
      "dict_keys(['anger', 'anticipation', 'disgust', 'fear', 'joy', 'negative', 'positive', 'sadness', 'surprise', 'trust'])\n",
      "[5.990783410138248, 13.056835637480798, 3.3794162826420893, 6.451612903225806, 11.059907834101383, 12.288786482334869, 23.655913978494624, 5.22273425499232, 5.837173579109063, 13.056835637480798]\n"
     ]
    }
   ],
   "source": [
    "print(scores[1]['anger'])\n",
    "positiveGroup = []\n",
    "negativeGroup = []\n",
    "controlGroup = scores[3].values()\n",
    "variables = scores[0].keys()\n",
    "print(scores[0].keys())\n",
    "for key in variables:\n",
    "    positiveGroup.append(scores[1][key]+scores[4][key])\n",
    "    negativeGroup.append(scores[0][key]+scores[2][key])\n",
    "    \n",
    "#Normalize\n",
    "posNorm = [(x / sum(positiveGroup))*100 for x in positiveGroup]\n",
    "negNorm = [(x / sum(negativeGroup))*100 for x in negativeGroup]\n",
    "conNorm = [(x / sum(controlGroup))*100 for x in controlGroup]\n",
    "print(posNorm)"
   ]
  },
  {
   "cell_type": "code",
   "execution_count": 20,
   "id": "62929a5f",
   "metadata": {},
   "outputs": [
    {
     "data": {
      "text/html": [
       "<div>\n",
       "<style scoped>\n",
       "    .dataframe tbody tr th:only-of-type {\n",
       "        vertical-align: middle;\n",
       "    }\n",
       "\n",
       "    .dataframe tbody tr th {\n",
       "        vertical-align: top;\n",
       "    }\n",
       "\n",
       "    .dataframe thead th {\n",
       "        text-align: right;\n",
       "    }\n",
       "</style>\n",
       "<table border=\"1\" class=\"dataframe\">\n",
       "  <thead>\n",
       "    <tr style=\"text-align: right;\">\n",
       "      <th></th>\n",
       "      <th>Positive</th>\n",
       "      <th>Negative</th>\n",
       "      <th>Control</th>\n",
       "    </tr>\n",
       "  </thead>\n",
       "  <tbody>\n",
       "    <tr>\n",
       "      <th>anger</th>\n",
       "      <td>39</td>\n",
       "      <td>24</td>\n",
       "      <td>13</td>\n",
       "    </tr>\n",
       "    <tr>\n",
       "      <th>anticipation</th>\n",
       "      <td>85</td>\n",
       "      <td>67</td>\n",
       "      <td>34</td>\n",
       "    </tr>\n",
       "    <tr>\n",
       "      <th>disgust</th>\n",
       "      <td>22</td>\n",
       "      <td>21</td>\n",
       "      <td>12</td>\n",
       "    </tr>\n",
       "    <tr>\n",
       "      <th>fear</th>\n",
       "      <td>42</td>\n",
       "      <td>28</td>\n",
       "      <td>22</td>\n",
       "    </tr>\n",
       "    <tr>\n",
       "      <th>joy</th>\n",
       "      <td>72</td>\n",
       "      <td>46</td>\n",
       "      <td>9</td>\n",
       "    </tr>\n",
       "    <tr>\n",
       "      <th>negative</th>\n",
       "      <td>80</td>\n",
       "      <td>80</td>\n",
       "      <td>43</td>\n",
       "    </tr>\n",
       "    <tr>\n",
       "      <th>positive</th>\n",
       "      <td>154</td>\n",
       "      <td>91</td>\n",
       "      <td>35</td>\n",
       "    </tr>\n",
       "    <tr>\n",
       "      <th>sadness</th>\n",
       "      <td>34</td>\n",
       "      <td>37</td>\n",
       "      <td>17</td>\n",
       "    </tr>\n",
       "    <tr>\n",
       "      <th>surprise</th>\n",
       "      <td>38</td>\n",
       "      <td>34</td>\n",
       "      <td>13</td>\n",
       "    </tr>\n",
       "    <tr>\n",
       "      <th>trust</th>\n",
       "      <td>85</td>\n",
       "      <td>58</td>\n",
       "      <td>14</td>\n",
       "    </tr>\n",
       "  </tbody>\n",
       "</table>\n",
       "</div>"
      ],
      "text/plain": [
       "              Positive  Negative  Control\n",
       "anger               39        24       13\n",
       "anticipation        85        67       34\n",
       "disgust             22        21       12\n",
       "fear                42        28       22\n",
       "joy                 72        46        9\n",
       "negative            80        80       43\n",
       "positive           154        91       35\n",
       "sadness             34        37       17\n",
       "surprise            38        34       13\n",
       "trust               85        58       14"
      ]
     },
     "execution_count": 20,
     "metadata": {},
     "output_type": "execute_result"
    }
   ],
   "source": [
    "import pandas as pd\n",
    "  \n",
    "data = {'Positive': positiveGroup,\n",
    "        'Negative': negativeGroup,\n",
    "        'Control': controlGroup}\n",
    "\n",
    "# Create the pandas DataFrame\n",
    "df = pd.DataFrame(data, index=variables)\n",
    "  \n",
    "# print dataframe.\n",
    "df"
   ]
  },
  {
   "cell_type": "code",
   "execution_count": 21,
   "id": "ba83729c",
   "metadata": {},
   "outputs": [
    {
     "data": {
      "text/html": [
       "<div>\n",
       "<style scoped>\n",
       "    .dataframe tbody tr th:only-of-type {\n",
       "        vertical-align: middle;\n",
       "    }\n",
       "\n",
       "    .dataframe tbody tr th {\n",
       "        vertical-align: top;\n",
       "    }\n",
       "\n",
       "    .dataframe thead th {\n",
       "        text-align: right;\n",
       "    }\n",
       "</style>\n",
       "<table border=\"1\" class=\"dataframe\">\n",
       "  <thead>\n",
       "    <tr style=\"text-align: right;\">\n",
       "      <th></th>\n",
       "      <th>Positive</th>\n",
       "      <th>Negative</th>\n",
       "      <th>Control</th>\n",
       "    </tr>\n",
       "  </thead>\n",
       "  <tbody>\n",
       "    <tr>\n",
       "      <th>anger</th>\n",
       "      <td>5.990783</td>\n",
       "      <td>4.938272</td>\n",
       "      <td>6.132075</td>\n",
       "    </tr>\n",
       "    <tr>\n",
       "      <th>anticipation</th>\n",
       "      <td>13.056836</td>\n",
       "      <td>13.786008</td>\n",
       "      <td>16.037736</td>\n",
       "    </tr>\n",
       "    <tr>\n",
       "      <th>disgust</th>\n",
       "      <td>3.379416</td>\n",
       "      <td>4.320988</td>\n",
       "      <td>5.660377</td>\n",
       "    </tr>\n",
       "    <tr>\n",
       "      <th>fear</th>\n",
       "      <td>6.451613</td>\n",
       "      <td>5.761317</td>\n",
       "      <td>10.377358</td>\n",
       "    </tr>\n",
       "    <tr>\n",
       "      <th>joy</th>\n",
       "      <td>11.059908</td>\n",
       "      <td>9.465021</td>\n",
       "      <td>4.245283</td>\n",
       "    </tr>\n",
       "    <tr>\n",
       "      <th>negative</th>\n",
       "      <td>12.288786</td>\n",
       "      <td>16.460905</td>\n",
       "      <td>20.283019</td>\n",
       "    </tr>\n",
       "    <tr>\n",
       "      <th>positive</th>\n",
       "      <td>23.655914</td>\n",
       "      <td>18.724280</td>\n",
       "      <td>16.509434</td>\n",
       "    </tr>\n",
       "    <tr>\n",
       "      <th>sadness</th>\n",
       "      <td>5.222734</td>\n",
       "      <td>7.613169</td>\n",
       "      <td>8.018868</td>\n",
       "    </tr>\n",
       "    <tr>\n",
       "      <th>surprise</th>\n",
       "      <td>5.837174</td>\n",
       "      <td>6.995885</td>\n",
       "      <td>6.132075</td>\n",
       "    </tr>\n",
       "    <tr>\n",
       "      <th>trust</th>\n",
       "      <td>13.056836</td>\n",
       "      <td>11.934156</td>\n",
       "      <td>6.603774</td>\n",
       "    </tr>\n",
       "  </tbody>\n",
       "</table>\n",
       "</div>"
      ],
      "text/plain": [
       "               Positive   Negative    Control\n",
       "anger          5.990783   4.938272   6.132075\n",
       "anticipation  13.056836  13.786008  16.037736\n",
       "disgust        3.379416   4.320988   5.660377\n",
       "fear           6.451613   5.761317  10.377358\n",
       "joy           11.059908   9.465021   4.245283\n",
       "negative      12.288786  16.460905  20.283019\n",
       "positive      23.655914  18.724280  16.509434\n",
       "sadness        5.222734   7.613169   8.018868\n",
       "surprise       5.837174   6.995885   6.132075\n",
       "trust         13.056836  11.934156   6.603774"
      ]
     },
     "execution_count": 21,
     "metadata": {},
     "output_type": "execute_result"
    }
   ],
   "source": [
    "import pandas as pd\n",
    "  \n",
    "data = {'Positive': posNorm,\n",
    "        'Negative': negNorm,\n",
    "        'Control': conNorm}\n",
    "\n",
    "# Create the pandas DataFrame\n",
    "df = pd.DataFrame(data, index=variables)\n",
    "\n",
    "# print dataframe.\n",
    "df"
   ]
  },
  {
   "cell_type": "code",
   "execution_count": 22,
   "id": "c6bf12de",
   "metadata": {},
   "outputs": [
    {
     "data": {
      "text/plain": [
       "<matplotlib.legend.Legend at 0x7fe835755430>"
      ]
     },
     "execution_count": 22,
     "metadata": {},
     "output_type": "execute_result"
    },
    {
     "data": {
      "image/png": "[encoded data removed]",
      "text/plain": [
       "<Figure size 1440x576 with 1 Axes>"
      ]
     },
     "metadata": {
      "needs_background": "light"
     },
     "output_type": "display_data"
    }
   ],
   "source": [
    "df =  pd.DataFrame({'Positive': posNorm,'Control':conNorm,'Negative':negNorm}, index=variables)\n",
    "ax = df.plot.bar(rot=0,figsize=(20, 8), color = {'Positive': 'green','Control':'orange','Negative': 'red'}, fontsize=20)\n",
    "ax.legend(fontsize = 20)"
   ]
  },
  {
   "cell_type": "code",
   "execution_count": 23,
   "id": "cfbd72d9",
   "metadata": {},
   "outputs": [],
   "source": [
    "posCompile = [0]*3\n",
    "conCompile = [0]*3\n",
    "negCompile = [0]*3\n",
    "labels = ['Positive', 'Negative', 'Arousal']\n",
    "\n",
    "neg = [0,2,3,5,7]\n",
    "pos = [4,6,9]\n",
    "\n",
    "arou = [1,8]\n",
    "for i in range(len(posNorm)):\n",
    "    if i in pos:\n",
    "        posCompile[0] += posCompile[0] + posNorm[i]\n",
    "        conCompile[0] += conCompile[0] + conNorm[i]\n",
    "        negCompile[0] += negCompile[0] + negNorm[i]\n",
    "    elif i in neg:\n",
    "        posCompile[1] += posCompile[1] + posNorm[i]\n",
    "        conCompile[1] += conCompile[1] + conNorm[i]\n",
    "        negCompile[1] += negCompile[1] + negNorm[i]\n",
    "    else:\n",
    "        posCompile[2] += posCompile[2] + posNorm[i]\n",
    "        conCompile[2] += conCompile[2] + conNorm[i]\n",
    "        negCompile[2] += negCompile[2] + negNorm[i]\n"
   ]
  },
  {
   "cell_type": "code",
   "execution_count": 24,
   "id": "60fc6eed",
   "metadata": {},
   "outputs": [
    {
     "data": {
      "text/plain": [
       "<matplotlib.legend.Legend at 0x7fe834090df0>"
      ]
     },
     "execution_count": 24,
     "metadata": {},
     "output_type": "execute_result"
    },
    {
     "data": {
      "image/png": "[encoded data removed]",
      "text/plain": [
       "<Figure size 360x360 with 1 Axes>"
      ]
     },
     "metadata": {
      "needs_background": "light"
     },
     "output_type": "display_data"
    }
   ],
   "source": [
    "df =  pd.DataFrame({'Positive': posCompile,'Control':conCompile,'Negative':negCompile}, index=labels)\n",
    "ax = df.plot.bar(rot=0,figsize=(5, 5), fontsize=10)\n",
    "ax.legend(fontsize = 10)"
   ]
  }
 ],
 "metadata": {
  "kernelspec": {
   "display_name": "Python 3 (ipykernel)",
   "language": "python",
   "name": "python3"
  },
  "language_info": {
   "codemirror_mode": {
    "name": "ipython",
    "version": 3
   },
   "file_extension": ".py",
   "mimetype": "text/x-python",
   "name": "python",
   "nbconvert_exporter": "python",
   "pygments_lexer": "ipython3",
   "version": "3.9.7"
  }
 },
 "nbformat": 4,
 "nbformat_minor": 5
}
